{
 "cells": [
  {
   "cell_type": "code",
   "execution_count": 1,
   "id": "b493ea3e",
   "metadata": {},
   "outputs": [],
   "source": [
    "import numpy as np\n",
    "import matplotlib.pyplot as plt"
   ]
  },
  {
   "cell_type": "code",
   "execution_count": 2,
   "id": "a20a4853",
   "metadata": {},
   "outputs": [],
   "source": [
    "def parse_lines(raw):\n",
    "    return np.array([[float(x) for x in line.split(\" \") if x != \"\"] for line in raw])\n",
    "\n",
    "def parse_line(line):\n",
    "    return np.array([float(x) for x in line.split(\" \") if x != \"\"])"
   ]
  },
  {
   "cell_type": "code",
   "execution_count": 5,
   "id": "98b419f1",
   "metadata": {},
   "outputs": [],
   "source": [
    "path = \"../Data/Processed/angles/training_30.txt\"\n",
    "# Opn file and read text\n",
    "with open(path, \"r\") as f:\n",
    "    lines = f.read().split('\\n')"
   ]
  },
  {
   "cell_type": "code",
   "execution_count": 6,
   "id": "26e288f3",
   "metadata": {},
   "outputs": [
    {
     "name": "stdout",
     "output_type": "stream",
     "text": [
      "Currently @  50  out of n\n",
      "Currently @  100  out of n\n",
      "Currently @  150  out of n\n",
      "Currently @  200  out of n\n",
      "Currently @  250  out of n\n",
      "Currently @  300  out of n\n",
      "Currently @  350  out of n\n",
      "Currently @  400  out of n\n",
      "Currently @  450  out of n\n",
      "Currently @  500  out of n\n",
      "Currently @  550  out of n\n",
      "Currently @  600  out of n\n"
     ]
    }
   ],
   "source": [
    "# Scan first n proteins\n",
    "names = []\n",
    "seqs = []\n",
    "psis = []\n",
    "phis = []\n",
    "pssms = []\n",
    "\n",
    "# Extract numeric data from text\n",
    "for i,line in enumerate(lines):\n",
    "    if len(names) == 601:\n",
    "        break\n",
    "    # Read each protein separately\n",
    "    if line == \"[ID]\":\n",
    "        names.append(lines[i+1])\n",
    "    elif line == \"[PRIMARY]\":\n",
    "        seqs.append(lines[i+1])\n",
    "    elif line == \"[EVOLUTIONARY]\":\n",
    "        pssms.append(parse_lines(lines[i+1:i+22]))\n",
    "    elif lines[i] == \"[PHI]\":\n",
    "        phis.append(parse_line(lines[i+1]))\n",
    "    elif lines[i] == \"[PSI]\":\n",
    "        psis.append(parse_line(lines[i+1]))\n",
    "        # Progress control\n",
    "        if len(names)%50 == 0:\n",
    "            print(\"Currently @ \", len(names), \" out of n\")"
   ]
  },
  {
   "cell_type": "code",
   "execution_count": 7,
   "id": "64a0fd8b",
   "metadata": {},
   "outputs": [],
   "source": [
    "# Length of masking - 17x2 AAs\n",
    "def onehotter_aa(seq, pos):\n",
    "    pad = 17\n",
    "    # Pad sequence\n",
    "    key = \"HRKDENQSYTCPAVLIGFWM\"\n",
    "    # Van der Waals radius\n",
    "    vdw_radius = {\"H\": 118, \"R\": 148, \"K\": 135, \"D\": 91, \"E\": 109, \"N\": 96, \"Q\": 114,\n",
    "                  \"S\": 73, \"Y\": 141, \"T\": 93, \"C\": 86, \"P\": 90, \"A\": 67, \"V\": 105,\n",
    "                  \"L\": 124, \"I\": 124, \"G\": 48, \"F\": 135, \"W\": 163, \"M\": 124}\n",
    "    radius_rel = vdw_radius.values()\n",
    "    basis = min(radius_rel)/max(radius_rel)\n",
    "    # Surface exposure \n",
    "    surface = {\"H\": 151, \"R\": 196, \"K\": 167, \"D\": 106, \"E\": 138, \"N\": 113, \"Q\": 144,\n",
    "                  \"S\": 80, \"Y\": 187, \"T\": 102, \"C\": 104, \"P\": 105, \"A\": 67, \"V\": 117,\n",
    "                  \"L\": 137, \"I\": 140, \"G\": 0, \"F\": 175, \"W\": 217, \"M\": 160}\n",
    "    surface_rel = surface.values()\n",
    "    surface_basis = min(surface_rel)/max(surface_rel)\n",
    "    # One-hot encoding\n",
    "    one_hot = []\n",
    "    for i in range(pos-pad, pos+pad): # alponer los guiones ya tiramos la seq para un lado\n",
    "        vec = [0 for i in range(22)]\n",
    "        # mark as 1 the corresponding indexes\n",
    "        for j in range(len(key)):\n",
    "            if seq[i] == key[j]:\n",
    "                vec[j] = 1\n",
    "                # Add Van der Waals relative radius\n",
    "                vec[-2] = vdw_radius[key[j]]/max(radius_rel)-basis\n",
    "                vec[-1] = surface[key[j]]/max(surface_rel)-surface_basis\n",
    "        \n",
    "        one_hot.append(vec) \n",
    "    \n",
    "    return np.array(one_hot)"
   ]
  },
  {
   "cell_type": "code",
   "execution_count": 8,
   "id": "021637b1",
   "metadata": {},
   "outputs": [],
   "source": [
    "#Crops the PSSM matrix\n",
    "def pssm_cropper(pssm, pos):\n",
    "    pssm_out = []\n",
    "    pad = 17\n",
    "    for i,row in enumerate(pssm):\n",
    "        pssm_out.append(row[pos-pad:pos+pad])\n",
    "    # PSSM is Lx21 - solution: transpose\n",
    "    return np.array(pssm_out)"
   ]
  },
  {
   "cell_type": "code",
   "execution_count": 9,
   "id": "3d3f4f64",
   "metadata": {},
   "outputs": [
    {
     "name": "stdout",
     "output_type": "stream",
     "text": [
      "Names:  600\n",
      "Seqs:  600\n",
      "PSSMs:  600\n",
      "Phis:  600\n",
      "Psis:  600\n"
     ]
    }
   ],
   "source": [
    "print(\"Names: \", len(names))\n",
    "print(\"Seqs: \", len(seqs))\n",
    "print(\"PSSMs: \", len(pssms))\n",
    "print(\"Phis: \", len(phis))\n",
    "print(\"Psis: \", len(psis))"
   ]
  },
  {
   "cell_type": "code",
   "execution_count": 10,
   "id": "507bb48e",
   "metadata": {},
   "outputs": [],
   "source": [
    "input_aa = []\n",
    "input_pssm = []\n",
    "outputs = []"
   ]
  },
  {
   "cell_type": "code",
   "execution_count": 11,
   "id": "e5f153c4",
   "metadata": {},
   "outputs": [
    {
     "name": "stdout",
     "output_type": "stream",
     "text": [
      "TOTAL: 98222 98222\n"
     ]
    }
   ],
   "source": [
    "long = 0 # Counter to ensure everythings fine\n",
    "\n",
    "for i in range(len(seqs)): \n",
    "    if len(seqs[i])>17*2:\n",
    "        long += len(seqs[i])-17*2\n",
    "        for j in range(17,len(seqs[i])-17):\n",
    "        # Padd sequence\n",
    "            input_aa.append(onehotter_aa(seqs[i], j))\n",
    "            input_pssm.append(pssm_cropper(pssms[i], j))\n",
    "            outputs.append([phis[i][j], psis[i][j]])\n",
    "            # break\n",
    "        # print(i, \"Added: \", len(seqs[i])-34,\"total for now:  \", long)\n",
    "print(\"TOTAL:\", long, len(input_aa))"
   ]
  },
  {
   "cell_type": "code",
   "execution_count": 12,
   "id": "9eae72cb",
   "metadata": {},
   "outputs": [
    {
     "name": "stdout",
     "output_type": "stream",
     "text": [
      "Outputs:  98222\n",
      "Inputs AAs:  98222\n",
      "Inputs PSSMs:  98222\n"
     ]
    }
   ],
   "source": [
    "print(\"Outputs: \", len(outputs))\n",
    "print(\"Inputs AAs: \", len(input_aa))\n",
    "print(\"Inputs PSSMs: \", len(input_pssm))"
   ]
  },
  {
   "cell_type": "code",
   "execution_count": 13,
   "id": "e0aee7ae",
   "metadata": {},
   "outputs": [
    {
     "data": {
      "text/plain": [
       "(98222, 34, 22)"
      ]
     },
     "execution_count": 13,
     "metadata": {},
     "output_type": "execute_result"
    }
   ],
   "source": [
    "input_aa = np.array(input_aa).reshape(len(input_aa), 17*2, 22)\n",
    "input_aa.shape"
   ]
  },
  {
   "cell_type": "code",
   "execution_count": 14,
   "id": "a5be7c9d",
   "metadata": {},
   "outputs": [
    {
     "data": {
      "text/plain": [
       "(98222, 34, 21)"
      ]
     },
     "execution_count": 14,
     "metadata": {},
     "output_type": "execute_result"
    }
   ],
   "source": [
    "input_pssm = np.array(input_pssm).reshape(len(input_pssm), 17*2, 21)\n",
    "input_pssm.shape"
   ]
  },
  {
   "cell_type": "code",
   "execution_count": 15,
   "id": "e7892039",
   "metadata": {},
   "outputs": [],
   "source": [
    "def stringify(vec):\n",
    "    return \"\".join(str(v)+\" \" for v in vec)"
   ]
  },
  {
   "cell_type": "code",
   "execution_count": 16,
   "id": "8e0ac2af",
   "metadata": {},
   "outputs": [],
   "source": [
    "with open(\"../Data/Processed/angles/outputs.txt\", \"a\") as f:\n",
    "    for o in outputs:\n",
    "        f.write(stringify(o)+\"\\n\")"
   ]
  },
  {
   "cell_type": "code",
   "execution_count": 17,
   "id": "c058ffe8",
   "metadata": {},
   "outputs": [],
   "source": [
    "with open(\"../Data/Processed/angles/input_aa.txt\", \"a\") as f:\n",
    "    for aas in input_aa:\n",
    "        f.write(\"\\nNEW\\n\")\n",
    "        for j in range(len(aas)):\n",
    "            f.write(stringify(aas[j])+\"\\n\")"
   ]
  },
  {
   "cell_type": "code",
   "execution_count": 18,
   "id": "0ec2c93c",
   "metadata": {},
   "outputs": [],
   "source": [
    "with open(\"../Data/Processed/angles/input_pssm.txt\", \"a\") as f:\n",
    "    for k in range(len(input_pssm)):\n",
    "        f.write(\"\\nNEW\\n\")\n",
    "        for j in range(len(input_pssm[k])):\n",
    "            f.write(stringify(input_pssm[k][j])+\"\\n\")"
   ]
  },
  {
   "cell_type": "code",
   "execution_count": null,
   "id": "9dc8490f",
   "metadata": {},
   "outputs": [],
   "source": []
  }
 ],
 "metadata": {
  "kernelspec": {
   "display_name": "Python 3 (ipykernel)",
   "language": "python",
   "name": "python3"
  },
  "language_info": {
   "codemirror_mode": {
    "name": "ipython",
    "version": 3
   },
   "file_extension": ".py",
   "mimetype": "text/x-python",
   "name": "python",
   "nbconvert_exporter": "python",
   "pygments_lexer": "ipython3",
   "version": "3.9.7"
  }
 },
 "nbformat": 4,
 "nbformat_minor": 5
}
